{
 "cells": [
  {
   "cell_type": "markdown",
   "id": "c170add9",
   "metadata": {},
   "source": [
    "def is the keyword used to create a fucntion"
   ]
  },
  {
   "cell_type": "code",
   "execution_count": 8,
   "id": "14d5465e",
   "metadata": {},
   "outputs": [],
   "source": [
    "def print_odd():\n",
    "    l=[]\n",
    "    for i in range(1,26,1):\n",
    "        if i%2!=0:\n",
    "            l.append(i)\n",
    "    print(l)"
   ]
  },
  {
   "cell_type": "code",
   "execution_count": 9,
   "id": "97a9eab7",
   "metadata": {},
   "outputs": [
    {
     "name": "stdout",
     "output_type": "stream",
     "text": [
      "[1, 3, 5, 7, 9, 11, 13, 15, 17, 19, 21, 23, 25]\n"
     ]
    }
   ],
   "source": [
    "print_odd()"
   ]
  },
  {
   "cell_type": "code",
   "execution_count": 38,
   "id": "cacf6151",
   "metadata": {},
   "outputs": [
    {
     "name": "stdout",
     "output_type": "stream",
     "text": [
      "15\n"
     ]
    }
   ],
   "source": [
    "def sum_numbers(*args):\n",
    "    total = 0\n",
    "    for num in args:\n",
    "        total += num\n",
    "    return total\n",
    "\n",
    "# Example usage:\n",
    "print(sum_numbers(1, 2, 3, 4, 5))"
   ]
  },
  {
   "cell_type": "code",
   "execution_count": 37,
   "id": "82fd04d0",
   "metadata": {},
   "outputs": [
    {
     "name": "stdout",
     "output_type": "stream",
     "text": [
      "name: John\n",
      "age: 25\n",
      "city: New York\n"
     ]
    }
   ],
   "source": [
    "def print_person_details(**kwargs):\n",
    "    for key, value in kwargs.items():\n",
    "        print(key + \": \" + value)\n",
    "\n",
    "# Example usage:\n",
    "print_person_details(name=\"John\", age=\"25\", city=\"New York\")\n",
    "    "
   ]
  },
  {
   "cell_type": "code",
   "execution_count": null,
   "id": "d2736efc",
   "metadata": {},
   "outputs": [],
   "source": [
    "\n"
   ]
  },
  {
   "cell_type": "code",
   "execution_count": null,
   "id": "0971ed51",
   "metadata": {},
   "outputs": [],
   "source": []
  },
  {
   "cell_type": "code",
   "execution_count": 42,
   "id": "a6b748b8",
   "metadata": {},
   "outputs": [],
   "source": [
    "class Iterator:\n",
    "    def __init__(self,data):\n",
    "        self.data=data\n",
    "        self.index=0\n",
    "    def __iter__(self):\n",
    "        return self\n",
    "    \n",
    "    def __next__(self):\n",
    "        if self.index>4:\n",
    "            raise StopIteration\n",
    "        value=self.data[self.index]      \n",
    "        self.index+=1\n",
    "        return value"
   ]
  },
  {
   "cell_type": "code",
   "execution_count": 43,
   "id": "e445b246",
   "metadata": {},
   "outputs": [
    {
     "name": "stdout",
     "output_type": "stream",
     "text": [
      "2\n",
      "4\n",
      "6\n",
      "8\n",
      "10\n"
     ]
    }
   ],
   "source": [
    "it=Iterator([2, 4, 6, 8, 10, 12, 14, 16,18, 20])\n",
    "\n",
    "for i in it:\n",
    "    print(i)"
   ]
  },
  {
   "cell_type": "markdown",
   "id": "0807086e",
   "metadata": {},
   "source": [
    "In Python, a generator function is a special type of function that generates a sequence of values or elements using the yield keyword. Unlike regular functions that return a single value and then terminate, generator functions can pause and resume their execution, allowing them to produce a series of values over time.\n",
    "\n",
    "The yield keyword is used in generator functions to define points where the function will yield a value and temporarily suspend its execution. When a generator function encounters a yield statement, it yields a value to the caller and saves its internal state. The next time the generator function is called, it resumes execution from where it left off, remembering its previous state.\n",
    "\n",
    "The use of generator functions provides several benefits, such as:\n",
    "\n",
    "They are memory-efficient as they generate values on-the-fly instead of storing them all in memory.\n",
    "They allow lazy evaluation, meaning that values are generated only when needed.\n",
    "They enable the iteration over a potentially infinite sequence without the need to generate the entire sequence upfront."
   ]
  },
  {
   "cell_type": "code",
   "execution_count": 79,
   "id": "0d7e6a18",
   "metadata": {},
   "outputs": [],
   "source": [
    "def fd(l):\n",
    "    sum=0\n",
    "    \n",
    "    yield sum\n",
    "    a=l*l\n",
    "    sum+=a\n",
    "        \n",
    "    return sum"
   ]
  },
  {
   "cell_type": "code",
   "execution_count": 78,
   "id": "b213c961",
   "metadata": {},
   "outputs": [
    {
     "name": "stdout",
     "output_type": "stream",
     "text": [
      "0\n",
      "0\n",
      "0\n",
      "0\n",
      "0\n",
      "0\n",
      "0\n",
      "0\n",
      "0\n",
      "0\n"
     ]
    }
   ],
   "source": [
    "for i in range(21,31,1):\n",
    "       print(next(fd(i)))"
   ]
  },
  {
   "cell_type": "code",
   "execution_count": 66,
   "id": "e38420e3",
   "metadata": {},
   "outputs": [],
   "source": [
    "d=[('Sachin Tendulkar', 34357), ('Ricky Ponting', 27483), ('Jack Kallis', 25534), ('Virat Kohli', 24936)]"
   ]
  },
  {
   "cell_type": "code",
   "execution_count": 69,
   "id": "62eb1809",
   "metadata": {},
   "outputs": [],
   "source": [
    "d1=sorted(d,key=lambda x:x[1],reverse=True)\n",
    "\n"
   ]
  },
  {
   "cell_type": "code",
   "execution_count": 70,
   "id": "8cc14274",
   "metadata": {},
   "outputs": [
    {
     "name": "stdout",
     "output_type": "stream",
     "text": [
      "[('Sachin Tendulkar', 34357), ('Ricky Ponting', 27483), ('Jack Kallis', 25534), ('Virat Kohli', 24936)]\n"
     ]
    }
   ],
   "source": [
    "\n",
    "print(d1)"
   ]
  },
  {
   "cell_type": "code",
   "execution_count": 13,
   "id": "7c496666",
   "metadata": {},
   "outputs": [
    {
     "data": {
      "text/plain": [
       "<function __main__.<lambda>(d)>"
      ]
     },
     "execution_count": 13,
     "metadata": {},
     "output_type": "execute_result"
    }
   ],
   "source": [
    "print(x)"
   ]
  },
  {
   "cell_type": "code",
   "execution_count": 20,
   "id": "dfa2419f",
   "metadata": {},
   "outputs": [],
   "source": [
    "l=[1, 2, 3, 4, 5, 6, 7, 8, 9, 10]"
   ]
  },
  {
   "cell_type": "code",
   "execution_count": 23,
   "id": "bea225d9",
   "metadata": {},
   "outputs": [
    {
     "name": "stdout",
     "output_type": "stream",
     "text": [
      "[1, 4, 9, 16, 25, 36, 49, 64, 81, 100]\n"
     ]
    }
   ],
   "source": [
    "result=map(lambda x : (x**2) ,l)\n",
    "print(list(result))"
   ]
  },
  {
   "cell_type": "code",
   "execution_count": 24,
   "id": "81376bcd",
   "metadata": {},
   "outputs": [],
   "source": [
    "s=[1, 2, 3, 4, 5, 6, 7, 8, 9, 10]"
   ]
  },
  {
   "cell_type": "code",
   "execution_count": 25,
   "id": "0cb03e34",
   "metadata": {},
   "outputs": [
    {
     "data": {
      "text/plain": [
       "[1, 2, 3, 4, 5, 6, 7, 8, 9, 10]"
      ]
     },
     "execution_count": 25,
     "metadata": {},
     "output_type": "execute_result"
    }
   ],
   "source": [
    "s\n"
   ]
  },
  {
   "cell_type": "code",
   "execution_count": 28,
   "id": "650ae9c2",
   "metadata": {},
   "outputs": [
    {
     "name": "stdout",
     "output_type": "stream",
     "text": [
      "('1', '2', '3', '4', '5', '6', '7', '8', '9', '10')\n"
     ]
    }
   ],
   "source": [
    "s1=tuple(map(str,s))\n",
    "print(s1)"
   ]
  },
  {
   "cell_type": "code",
   "execution_count": 39,
   "id": "86514958",
   "metadata": {},
   "outputs": [
    {
     "data": {
      "text/plain": [
       "[1, 2, 3, 4, 5, 6, 7, 8, 9, 10]"
      ]
     },
     "execution_count": 39,
     "metadata": {},
     "output_type": "execute_result"
    }
   ],
   "source": [
    "s"
   ]
  },
  {
   "cell_type": "code",
   "execution_count": 37,
   "id": "19527002",
   "metadata": {},
   "outputs": [
    {
     "name": "stdout",
     "output_type": "stream",
     "text": [
      "3628800\n"
     ]
    }
   ],
   "source": [
    "\n",
    "print(functools.reduce(lambda x,y : x*y ,s))"
   ]
  },
  {
   "cell_type": "code",
   "execution_count": 42,
   "id": "4e6b4e4c",
   "metadata": {},
   "outputs": [],
   "source": [
    "s4=[2, 3, 6, 9, 27, 60, 90, 120, 55, 46]"
   ]
  },
  {
   "cell_type": "code",
   "execution_count": 43,
   "id": "a37ab2fb",
   "metadata": {},
   "outputs": [
    {
     "name": "stdout",
     "output_type": "stream",
     "text": [
      "[6, 60, 90, 120]\n"
     ]
    }
   ],
   "source": [
    "s5=filter(lambda x: x%6==0 ,s4)\n",
    "print(list(s5))"
   ]
  },
  {
   "cell_type": "code",
   "execution_count": 58,
   "id": "fbbca1b4",
   "metadata": {},
   "outputs": [],
   "source": [
    "s6=['python', 'php', 'aba', 'radar', 'level']"
   ]
  },
  {
   "cell_type": "code",
   "execution_count": 59,
   "id": "fff06e68",
   "metadata": {},
   "outputs": [
    {
     "name": "stdout",
     "output_type": "stream",
     "text": [
      "['php', 'aba', 'radar', 'level']\n"
     ]
    }
   ],
   "source": [
    "s7=list(filter(lambda x: x==(''.join(reversed(x))),s6)) # ''.join(reversed(x)) is used to get the reverse of a string\n",
    "print(s7)"
   ]
  },
  {
   "cell_type": "code",
   "execution_count": 51,
   "id": "4366aa1d",
   "metadata": {},
   "outputs": [],
   "source": []
  },
  {
   "cell_type": "code",
   "execution_count": null,
   "id": "71c31a25",
   "metadata": {},
   "outputs": [],
   "source": [
    "\n"
   ]
  },
  {
   "cell_type": "code",
   "execution_count": null,
   "id": "41c65d6a",
   "metadata": {},
   "outputs": [],
   "source": []
  }
 ],
 "metadata": {
  "kernelspec": {
   "display_name": "Python 3 (ipykernel)",
   "language": "python",
   "name": "python3"
  },
  "language_info": {
   "codemirror_mode": {
    "name": "ipython",
    "version": 3
   },
   "file_extension": ".py",
   "mimetype": "text/x-python",
   "name": "python",
   "nbconvert_exporter": "python",
   "pygments_lexer": "ipython3",
   "version": "3.10.9"
  }
 },
 "nbformat": 4,
 "nbformat_minor": 5
}
