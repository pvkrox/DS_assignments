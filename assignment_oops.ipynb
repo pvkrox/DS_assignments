{
 "cells": [
  {
   "cell_type": "code",
   "execution_count": 77,
   "id": "d9da7831",
   "metadata": {},
   "outputs": [],
   "source": [
    "class Vechile:\n",
    "    def __init__(self,name_of_vehicle,max_speed,average_of_vehicle):\n",
    "        self.name_of_vehicle=name_of_vehicle\n",
    "        self.max_speed=max_speed\n",
    "        self.average_of_vehicle=average_of_vehicle\n",
    "        \n",
    "    def get_name(self):\n",
    "            return self.name_of_vehicle\n",
    "    def set_speed(self,max_speed):\n",
    "             self.max_speed=max_speed\n",
    "    def set_speed(self,max_speed,average_of_vehicle):\n",
    "            self.max_speed=max_speed\n",
    "            self.average_of_vehicle=average_of_vehicle\n",
    "    "
   ]
  },
  {
   "cell_type": "code",
   "execution_count": 72,
   "id": "ed409b20",
   "metadata": {},
   "outputs": [],
   "source": [
    "v=Vechile('Bently',218,2.3)"
   ]
  },
  {
   "cell_type": "code",
   "execution_count": 73,
   "id": "a59dd8c2",
   "metadata": {},
   "outputs": [
    {
     "data": {
      "text/plain": [
       "'Bently'"
      ]
     },
     "execution_count": 73,
     "metadata": {},
     "output_type": "execute_result"
    }
   ],
   "source": [
    "v.name_of_vehicle\n"
   ]
  },
  {
   "cell_type": "code",
   "execution_count": 74,
   "id": "20c5c875",
   "metadata": {},
   "outputs": [
    {
     "name": "stdout",
     "output_type": "stream",
     "text": [
      "Bently\n"
     ]
    }
   ],
   "source": [
    "print(v.get_name())"
   ]
  },
  {
   "cell_type": "code",
   "execution_count": 78,
   "id": "775312bd",
   "metadata": {},
   "outputs": [
    {
     "ename": "TypeError",
     "evalue": "Vechile.set_speed() missing 1 required positional argument: 'average_of_vehicle'",
     "output_type": "error",
     "traceback": [
      "\u001b[1;31m---------------------------------------------------------------------------\u001b[0m",
      "\u001b[1;31mTypeError\u001b[0m                                 Traceback (most recent call last)",
      "Cell \u001b[1;32mIn[78], line 1\u001b[0m\n\u001b[1;32m----> 1\u001b[0m \u001b[43mv\u001b[49m\u001b[38;5;241;43m.\u001b[39;49m\u001b[43mset_speed\u001b[49m\u001b[43m(\u001b[49m\u001b[38;5;241;43m256\u001b[39;49m\u001b[43m)\u001b[49m\n",
      "\u001b[1;31mTypeError\u001b[0m: Vechile.set_speed() missing 1 required positional argument: 'average_of_vehicle'"
     ]
    }
   ],
   "source": [
    "v.set_speed(256)"
   ]
  },
  {
   "cell_type": "code",
   "execution_count": 79,
   "id": "080c6609",
   "metadata": {},
   "outputs": [
    {
     "data": {
      "text/plain": [
       "218"
      ]
     },
     "execution_count": 79,
     "metadata": {},
     "output_type": "execute_result"
    }
   ],
   "source": [
    "v.max_speed"
   ]
  },
  {
   "cell_type": "code",
   "execution_count": 46,
   "id": "96730382",
   "metadata": {},
   "outputs": [],
   "source": [
    "v.set_speed(268,10)"
   ]
  },
  {
   "cell_type": "code",
   "execution_count": 80,
   "id": "af41aba4",
   "metadata": {},
   "outputs": [
    {
     "data": {
      "text/plain": [
       "218"
      ]
     },
     "execution_count": 80,
     "metadata": {},
     "output_type": "execute_result"
    }
   ],
   "source": [
    "v.max_speed"
   ]
  },
  {
   "cell_type": "code",
   "execution_count": 95,
   "id": "39ba6cb6",
   "metadata": {},
   "outputs": [],
   "source": [
    "class car(Vechile):\n",
    "    pass\n",
    "    def __init__(self):\n",
    "        #super().__init__(self)\n",
    "        print(\"class Vechile called\")\n",
    "    def seating_cap(self,seating_capacity):\n",
    "        self.seating_capacity=seating_capacity\n",
    "        return self.seating_capacity\n",
    "    "
   ]
  },
  {
   "cell_type": "code",
   "execution_count": 96,
   "id": "77b2731a",
   "metadata": {},
   "outputs": [
    {
     "name": "stdout",
     "output_type": "stream",
     "text": [
      "class Vechile called\n"
     ]
    }
   ],
   "source": [
    " c=car()"
   ]
  },
  {
   "cell_type": "code",
   "execution_count": 97,
   "id": "8b3fcfd2",
   "metadata": {},
   "outputs": [
    {
     "data": {
      "text/plain": [
       "5"
      ]
     },
     "execution_count": 97,
     "metadata": {},
     "output_type": "execute_result"
    }
   ],
   "source": [
    "c.seating_cap(5)"
   ]
  },
  {
   "cell_type": "code",
   "execution_count": 83,
   "id": "d8344491",
   "metadata": {},
   "outputs": [
    {
     "ename": "AttributeError",
     "evalue": "'car' object has no attribute 'seating_cap'",
     "output_type": "error",
     "traceback": [
      "\u001b[1;31m---------------------------------------------------------------------------\u001b[0m",
      "\u001b[1;31mAttributeError\u001b[0m                            Traceback (most recent call last)",
      "Cell \u001b[1;32mIn[83], line 1\u001b[0m\n\u001b[1;32m----> 1\u001b[0m \u001b[43mc\u001b[49m\u001b[38;5;241;43m.\u001b[39;49m\u001b[43mseating_cap\u001b[49m(\u001b[38;5;241m4\u001b[39m)\n",
      "\u001b[1;31mAttributeError\u001b[0m: 'car' object has no attribute 'seating_cap'"
     ]
    }
   ],
   "source": [
    "c.seating_cap(4)"
   ]
  }
 ],
 "metadata": {
  "kernelspec": {
   "display_name": "Python 3 (ipykernel)",
   "language": "python",
   "name": "python3"
  },
  "language_info": {
   "codemirror_mode": {
    "name": "ipython",
    "version": 3
   },
   "file_extension": ".py",
   "mimetype": "text/x-python",
   "name": "python",
   "nbconvert_exporter": "python",
   "pygments_lexer": "ipython3",
   "version": "3.10.9"
  }
 },
 "nbformat": 4,
 "nbformat_minor": 5
}
