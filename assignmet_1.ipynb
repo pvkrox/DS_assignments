{
 "cells": [
  {
   "cell_type": "code",
   "execution_count": 3,
   "id": "215d572a",
   "metadata": {},
   "outputs": [
    {
     "name": "stdout",
     "output_type": "stream",
     "text": [
      "Enter a digit4\n",
      "4\n",
      "Pratical trial\n"
     ]
    },
    {
     "data": {
      "text/plain": [
       "1.0"
      ]
     },
     "execution_count": 3,
     "metadata": {},
     "output_type": "execute_result"
    }
   ],
   "source": [
    "a=int(input('Enter a digit'))\n",
    "print(a)\n",
    "\n",
    "my_list = [1, 2, 3, 4, 5]\n",
    "my_list[1:3]\n",
    "price=9.999\n",
    "type(price)\n",
    "name='Pratical trial'\n",
    "print(name)\n",
    "\n",
    "t='Hello, World!'\n",
    "t[7:13]\n",
    "is_student=True\n",
    "float(is_student)"
   ]
  }
 ],
 "metadata": {
  "kernelspec": {
   "display_name": "Python 3 (ipykernel)",
   "language": "python",
   "name": "python3"
  },
  "language_info": {
   "codemirror_mode": {
    "name": "ipython",
    "version": 3
   },
   "file_extension": ".py",
   "mimetype": "text/x-python",
   "name": "python",
   "nbconvert_exporter": "python",
   "pygments_lexer": "ipython3",
   "version": "3.10.9"
  }
 },
 "nbformat": 4,
 "nbformat_minor": 5
}
