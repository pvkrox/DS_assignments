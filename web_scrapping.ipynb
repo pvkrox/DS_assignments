{
 "cells": [
  {
   "cell_type": "code",
   "execution_count": null,
   "id": "cbec2d6d",
   "metadata": {},
   "outputs": [],
   "source": [
    "pip install requests\n",
    "pip install bs4\n",
    "import requests\n",
    "from bs4 import BeautifulSoup as bs\n",
    "from urllib.request  import urlopen\n",
    "import logging\n",
    "\n",
    "\n",
    "flipkart_url=\"https://www.flipkart.com/search?q=\" + \"iphone\"\n",
    "url_link=urlopen(flipkart_url)\n",
    "url_click=url_link.read()\n",
    "url_click\n",
    "url_html=bs(url_click,'html.parser')\n",
    "url_html\n",
    "\"https://www.flipkart.com/\"+\"/apple-iphone-13-midnight-128-gb/p/itmca361aab1c5b0?pid=MOBG6VF5Q82T3XRS&lid=LSTMOBG6VF5Q82T3XRSOXJLM9&marketplace=FLIPKART&q=iphone&store=tyy%2F4io&srno=s_1_1&otracker=search&iid=67de2bcd-a1fa-4f5d-9e4d-77675714c364.MOBG6VF5Q82T3XRS.SEARCH&ssid=nyqq16wmuo0000001689072818017&qH=0b3f45b266a97d70\"\n",
    "big_box=url_html.find_all(\"div\",{\"class\":\"_1AtVbE col-12-12\"})\n",
    "len(big_box)\n",
    "del big_box[0:3]\n",
    "product_link=\"https://www.flipkart.com\" + big_box[2].div.div.div.a['href']\n",
    "product_link\n",
    "\n",
    "\n",
    "for i in big_box:\n",
    "    print(\"https://www.flipkart.com\" + i.div.div.div.a['href'])\n",
    "\n",
    "\n",
    "\n",
    "product_link\n",
    "product_request=requests.get(product_link,verify=False)\n",
    "prod_request_html= bs(product_request.text,'html.parser')\n",
    "comment_box= prod_request_html.find_all(\"div\",{\"class\":\"_16PBlm\"})\n",
    "len(comment_box)\n",
    "comment_box[0].div.div.find_all(\"p\",{\"class\":\"_2sc7ZR _2V5EHH\"})[0].text\n",
    "for i in comment_box:\n",
    "    print(i.div.div.find_all(\"p\",{\"class\":\"_2sc7ZR _2V5EHH\"})[0].text)\n",
    "\n",
    "for i in comment_box:\n",
    "    print(i.div.div.div.div.text)\n",
    "\n",
    "comment_box[0].div.div.div.p.text\n",
    "for i in comment_box:\n",
    "    print(i.div.div.div.p.text)\n",
    "comment_box[0].div.div.find_all(\"div\",{\"class\":\"\"})[0].text\n",
    "for i in comment_box:\n",
    "    print(i.div.div.find_all(\"div\",{\"class\":\"\"})[0].text)\n",
    "\n",
    "\n"
   ]
  },
  {
   "cell_type": "code",
   "execution_count": null,
   "id": "64ac5f90",
   "metadata": {},
   "outputs": [],
   "source": []
  },
  {
   "cell_type": "code",
   "execution_count": null,
   "id": "086d8af9",
   "metadata": {},
   "outputs": [],
   "source": []
  },
  {
   "cell_type": "code",
   "execution_count": 2,
   "id": "694c0b56",
   "metadata": {},
   "outputs": [],
   "source": []
  },
  {
   "cell_type": "code",
   "execution_count": 28,
   "id": "6cb34628",
   "metadata": {},
   "outputs": [],
   "source": []
  },
  {
   "cell_type": "code",
   "execution_count": null,
   "id": "972ceb04",
   "metadata": {},
   "outputs": [],
   "source": []
  },
  {
   "cell_type": "code",
   "execution_count": null,
   "id": "c9931f69",
   "metadata": {},
   "outputs": [],
   "source": []
  },
  {
   "cell_type": "code",
   "execution_count": null,
   "id": "2afd150a",
   "metadata": {},
   "outputs": [],
   "source": []
  },
  {
   "cell_type": "code",
   "execution_count": null,
   "id": "f2eeda96",
   "metadata": {},
   "outputs": [],
   "source": []
  },
  {
   "cell_type": "code",
   "execution_count": null,
   "id": "92bd1c76",
   "metadata": {},
   "outputs": [],
   "source": []
  },
  {
   "cell_type": "code",
   "execution_count": null,
   "id": "1c3d8013",
   "metadata": {},
   "outputs": [],
   "source": []
  },
  {
   "cell_type": "code",
   "execution_count": null,
   "id": "f02d9b1c",
   "metadata": {},
   "outputs": [],
   "source": []
  },
  {
   "cell_type": "code",
   "execution_count": null,
   "id": "ba3607dd",
   "metadata": {},
   "outputs": [],
   "source": []
  },
  {
   "cell_type": "code",
   "execution_count": null,
   "id": "13534e5c",
   "metadata": {},
   "outputs": [],
   "source": []
  },
  {
   "cell_type": "code",
   "execution_count": null,
   "id": "8e3d3e25",
   "metadata": {},
   "outputs": [],
   "source": []
  },
  {
   "cell_type": "code",
   "execution_count": null,
   "id": "70326886",
   "metadata": {},
   "outputs": [],
   "source": []
  },
  {
   "cell_type": "code",
   "execution_count": 23,
   "id": "e1d93a50",
   "metadata": {},
   "outputs": [],
   "source": []
  },
  {
   "cell_type": "code",
   "execution_count": null,
   "id": "9de977e4",
   "metadata": {},
   "outputs": [],
   "source": []
  }
 ],
 "metadata": {
  "kernelspec": {
   "display_name": "Python 3 (ipykernel)",
   "language": "python",
   "name": "python3"
  },
  "language_info": {
   "codemirror_mode": {
    "name": "ipython",
    "version": 3
   },
   "file_extension": ".py",
   "mimetype": "text/x-python",
   "name": "python",
   "nbconvert_exporter": "python",
   "pygments_lexer": "ipython3",
   "version": "3.10.9"
  }
 },
 "nbformat": 4,
 "nbformat_minor": 5
}
